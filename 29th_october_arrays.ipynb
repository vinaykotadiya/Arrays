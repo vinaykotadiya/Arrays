{
 "cells": [
  {
   "cell_type": "markdown",
   "id": "32e7dc88-f6f5-4598-9b11-e63be6764a51",
   "metadata": {},
   "source": [
    "### 1. Given an array, check if it contains any duplicates or not. \n",
    "### arr = [1, 2, 4, 2, 5, 9]\n"
   ]
  },
  {
   "cell_type": "code",
   "execution_count": 6,
   "id": "b1e6e0a8-dc6b-44ad-aac3-d13ed6d1d323",
   "metadata": {},
   "outputs": [
    {
     "name": "stdout",
     "output_type": "stream",
     "text": [
      "True\n"
     ]
    }
   ],
   "source": [
    "# make a function\n",
    "def duplicates(arr):\n",
    "    # use for loop for check all elements\n",
    "    for i in range(len(arr)):\n",
    "        for j in range(i+1,len(arr)):\n",
    "        # check any duplicates\n",
    "            if arr[i] == arr[j]:\n",
    "                return True\n",
    "        \n",
    "    return False\n",
    "\n",
    "# driver code\n",
    "arr = [1,2,4,2,5,9]\n",
    "result=duplicates(arr)\n",
    "print(result)"
   ]
  },
  {
   "cell_type": "markdown",
   "id": "19539733-8dae-44d3-82ea-31496e194cd5",
   "metadata": {},
   "source": [
    "### 2. Given an array and an integer k, rotate the array to the right by k steps. \n",
    "### arr = [1, 2, 3, 4, 5, 6, 7] k = 3"
   ]
  },
  {
   "cell_type": "code",
   "execution_count": 8,
   "id": "f174e7f7-0887-48fe-9472-5341c5b52ed8",
   "metadata": {},
   "outputs": [
    {
     "data": {
      "text/plain": [
       "[1, 2, 3, 5, 4]"
      ]
     },
     "execution_count": 8,
     "metadata": {},
     "output_type": "execute_result"
    }
   ],
   "source": [
    "def reverse(arr, n, k):\n",
    "    # Initialize pointers for reversing segments\n",
    "    start = k  # Starting index for reversal\n",
    "    end = n - 1  # Ending index (end of the array)\n",
    "\n",
    "    # Loop to reverse the segment of the array from start to end\n",
    "    while start < end:\n",
    "        # Swap elements at start and end indices\n",
    "        arr[start], arr[end] = arr[end], arr[start]\n",
    "        # Move start pointer forward\n",
    "        start += 1\n",
    "        # Move end pointer backward\n",
    "        end -= 1\n",
    "    \n",
    "    # Return the modified array after rotation\n",
    "    return arr\n",
    "\n",
    "# Given array and rotation parameters\n",
    "arr = [1, 2, 3, 4, 5]\n",
    "n = len(arr)  # Length of the array\n",
    "k = 3  # Number of steps to rotate\n",
    "\n",
    "# Perform array rotation using reverse function\n",
    "reverse(arr, n, k)\n"
   ]
  },
  {
   "cell_type": "markdown",
   "id": "74a2651c-97db-4fac-a562-de096bf6baf4",
   "metadata": {},
   "source": [
    "### 3. Reverse the given array in-place, means without using any extra data structure. \n",
    "### arr = [2, 4, 5, 7, 9, 12]"
   ]
  },
  {
   "cell_type": "code",
   "execution_count": 12,
   "id": "24ee78e9-dd56-42bd-ae13-65507774e838",
   "metadata": {},
   "outputs": [
    {
     "name": "stdout",
     "output_type": "stream",
     "text": [
      "Reversed array: [12, 9, 7, 5, 4, 2]\n"
     ]
    }
   ],
   "source": [
    "def reverse_array(arr):\n",
    "    # Initialize pointers for the start and end of the array\n",
    "    start = 0\n",
    "    end = len(arr) - 1\n",
    "\n",
    "    # Iterate through the array, swapping elements until start pointer surpasses the end pointer\n",
    "    while start < end:\n",
    "        # Swap elements at start and end indices\n",
    "        arr[start], arr[end] = arr[end], arr[start]\n",
    "        # Move start pointer forward\n",
    "        start += 1\n",
    "        # Move end pointer backward\n",
    "        end -= 1\n",
    "\n",
    "    return arr\n",
    "\n",
    "# Given array\n",
    "arr = [2, 4, 5, 7, 9, 12]\n",
    "\n",
    "# Reverse the array in-place\n",
    "result = reverse_array(arr)\n",
    "\n",
    "# Print the reversed array\n",
    "print(\"Reversed array:\", result)\n"
   ]
  },
  {
   "cell_type": "markdown",
   "id": "1379d8df-2902-4dba-9720-3f978ee620bb",
   "metadata": {},
   "source": [
    "### 4. Given an array of integers, find the maximum element in an array\n",
    "### arr = [10, 5, 20, 8, 15]"
   ]
  },
  {
   "cell_type": "code",
   "execution_count": 9,
   "id": "a2b9efc7-64ba-46ee-bda0-93cf83353b75",
   "metadata": {},
   "outputs": [
    {
     "name": "stdout",
     "output_type": "stream",
     "text": [
      "Maximum element in the array: 20\n"
     ]
    }
   ],
   "source": [
    "arr = [10, 5, 20, 8, 15]\n",
    "\n",
    "# Initialize max_element with the first element of the array\n",
    "max_element = arr[0]\n",
    "\n",
    "# Iterate through the array to find the maximum element\n",
    "for num in arr:\n",
    "    if num > max_element:\n",
    "        max_element = num\n",
    "\n",
    "# Print the maximum element\n",
    "print(\"Maximum element in the array:\", max_element)\n"
   ]
  },
  {
   "cell_type": "markdown",
   "id": "22795a9b-79f3-4519-871f-a0cb079f7438",
   "metadata": {},
   "source": [
    "### 5. Given a sorted array, remove the duplicate element without using any extra data structure. \n",
    "### arr = [1, 1, 2, 2, 2, 3, 3, 4, 4, 4, 5, 5]"
   ]
  },
  {
   "cell_type": "code",
   "execution_count": 11,
   "id": "272c01b9-b2e7-4de4-a4de-b0b0c8e0694b",
   "metadata": {},
   "outputs": [
    {
     "name": "stdout",
     "output_type": "stream",
     "text": [
      "Array after removing duplicates: [1, 2, 3, 4, 5]\n"
     ]
    }
   ],
   "source": [
    "def remove_duplicates(arr):\n",
    "    # Check if the array is empty or has only one element\n",
    "    if len(arr) <= 1:\n",
    "        return arr\n",
    "\n",
    "    # Initialize a variable to track the index where unique elements will be placed\n",
    "    unique_index = 0\n",
    "\n",
    "    # Iterate through the array starting from the second element\n",
    "    for i in range(1, len(arr)):\n",
    "        # If the current element is different from the previous unique element\n",
    "        if arr[i] != arr[unique_index]:\n",
    "            # Move to the next index and update the unique element\n",
    "            unique_index += 1\n",
    "            # Place the unique element at the next index\n",
    "            arr[unique_index] = arr[i]\n",
    "\n",
    "    # Remove the duplicate elements by slicing the array from index+1 till the end\n",
    "    arr = arr[:unique_index + 1]\n",
    "\n",
    "    return arr\n",
    "\n",
    "# Given sorted array with duplicates\n",
    "arr = [1, 1, 2, 2, 2, 3, 3, 4, 4, 4, 5, 5]\n",
    "\n",
    "# Call the function to remove duplicates\n",
    "result = remove_duplicates(arr)\n",
    "\n",
    "# Print the array without duplicates\n",
    "print(\"Array after removing duplicates:\", result)\n"
   ]
  },
  {
   "cell_type": "code",
   "execution_count": null,
   "id": "5f02f519-2a42-40a5-a768-20d5ee2b4d46",
   "metadata": {},
   "outputs": [],
   "source": []
  }
 ],
 "metadata": {
  "kernelspec": {
   "display_name": "Python 3 (ipykernel)",
   "language": "python",
   "name": "python3"
  },
  "language_info": {
   "codemirror_mode": {
    "name": "ipython",
    "version": 3
   },
   "file_extension": ".py",
   "mimetype": "text/x-python",
   "name": "python",
   "nbconvert_exporter": "python",
   "pygments_lexer": "ipython3",
   "version": "3.10.8"
  }
 },
 "nbformat": 4,
 "nbformat_minor": 5
}
